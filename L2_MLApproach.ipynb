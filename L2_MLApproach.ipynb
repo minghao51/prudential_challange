{
 "cells": [
  {
   "cell_type": "markdown",
   "metadata": {},
   "source": [
    "# ML-based Appraoch\n",
    "- Feature Eng and ML Training"
   ]
  },
  {
   "cell_type": "markdown",
   "metadata": {},
   "source": [
    "# Library"
   ]
  },
  {
   "cell_type": "code",
   "execution_count": 1,
   "metadata": {},
   "outputs": [],
   "source": [
    "import seaborn as sns\n",
    "import pandas as pd\n",
    "import polars as pl\n",
    "import numpy as np\n",
    "import matplotlib.pyplot as plt\n",
    "import datetime\n",
    "from dateutil.relativedelta import relativedelta\n",
    "\n",
    "import math"
   ]
  },
  {
   "cell_type": "markdown",
   "metadata": {},
   "source": [
    "# Input"
   ]
  },
  {
   "cell_type": "code",
   "execution_count": 2,
   "metadata": {},
   "outputs": [],
   "source": [
    "df = pl.read_parquet(\"data/L1/generated_data.parquet\")\n",
    "df = df.drop([\"under_insured\", \"high_income\", \"dependents_needs\", \"recent_purchase\"])"
   ]
  },
  {
   "cell_type": "markdown",
   "metadata": {},
   "source": [
    "# Polar Eng\n",
    "\n",
    "There are multiple ways we can try to phase this cross-sell/up-sell features. One of it is feature based, whereby we would consider every purchase event\n",
    "- This is done to bypass the typical situation whereby there isnt' surfficient data for Cross-selling\n",
    "    - Hence, we would take accounts of both single and multiple purchase from customers.\n",
    "    - We can modulate it through weights of the feature/sample.\n",
    "- Another method would be just to time split the purchase behavior of customers"
   ]
  },
  {
   "cell_type": "markdown",
   "metadata": {},
   "source": [
    "## Policies Events"
   ]
  },
  {
   "cell_type": "code",
   "execution_count": 3,
   "metadata": {},
   "outputs": [],
   "source": [
    "policy_issue_event = (\n",
    "    df.rename({\"Policy_Issue_Date\": \"Event_Date\"})\n",
    "    .drop(\"Policy_Terminate_Date\")\n",
    "    .with_columns(pl.lit(1).alias(\"Policy_Count\"))[\n",
    "        [\n",
    "            \"CustomerID\",\n",
    "            \"Event_Date\",\n",
    "            \"Policy\",\n",
    "            \"Policy_Count\",\n",
    "            \"Premium_Amount\",\n",
    "            \"Insured_Amount\",\n",
    "        ]\n",
    "    ]\n",
    ")\n",
    "\n",
    "\n",
    "policy_terminate_event = (\n",
    "    df.filter(pl.col(\"Policy_Terminate_Date\").is_not_null())\n",
    "    .rename({\"Policy_Terminate_Date\": \"Event_Date\"})\n",
    "    .with_columns(\n",
    "        pl.col(\"Premium_Amount\") * -1,\n",
    "        pl.col(\"Insured_Amount\") * -1,\n",
    "    )\n",
    "    .with_columns(pl.lit(-1).alias(\"Policy_Count\"))[\n",
    "        [\n",
    "            \"CustomerID\",\n",
    "            \"Event_Date\",\n",
    "            \"Policy\",\n",
    "            \"Policy_Count\",\n",
    "            \"Premium_Amount\",\n",
    "            \"Insured_Amount\",\n",
    "        ]\n",
    "    ]\n",
    ")\n",
    "\n",
    "policy_event = pl.concat([policy_issue_event, policy_terminate_event])"
   ]
  },
  {
   "cell_type": "markdown",
   "metadata": {},
   "source": [
    "## Policies Rolling"
   ]
  },
  {
   "cell_type": "markdown",
   "metadata": {},
   "source": [
    "### Train"
   ]
  },
  {
   "cell_type": "code",
   "execution_count": 4,
   "metadata": {},
   "outputs": [
    {
     "name": "stderr",
     "output_type": "stream",
     "text": [
      "/tmp/ipykernel_645339/298486667.py:4: DeprecationWarning: The argument `by` for `LazyFrame.rolling` is deprecated. It has been renamed to `group_by`.\n",
      "  .rolling(index_column=\"Event_Date\", period=\"99y\", by=\"CustomerID\", closed=\"left\")\n"
     ]
    }
   ],
   "source": [
    "policy_rolling = (\n",
    "    policy_event.lazy()\n",
    "    .sort([\"CustomerID\", \"Event_Date\"])\n",
    "    .rolling(index_column=\"Event_Date\", period=\"99y\", by=\"CustomerID\", closed=\"left\")\n",
    "    .agg(\n",
    "        pl.col(\"*\").sum(),\n",
    "    )\n",
    "    .drop(\"Policy\")\n",
    ").collect()\n",
    "\n",
    "\n",
    "# Filter for only purchase events\n",
    "policy_rolling_train = (\n",
    "    policy_rolling.join(\n",
    "        policy_event[[\"Policy\", \"Policy_Count\", \"CustomerID\", \"Event_Date\"]],\n",
    "        on=[\"CustomerID\", \"Event_Date\"],\n",
    "    )\n",
    "    .rename({\"Policy_Count_right\": \"Purchase_Terminate\", \"Policy\": \"Purchase_Policy\"})\n",
    "    .filter(pl.col(\"Purchase_Terminate\") == 1)\n",
    ")"
   ]
  },
  {
   "cell_type": "markdown",
   "metadata": {},
   "source": [
    "### Score"
   ]
  },
  {
   "cell_type": "code",
   "execution_count": 5,
   "metadata": {},
   "outputs": [
    {
     "name": "stderr",
     "output_type": "stream",
     "text": [
      "/tmp/ipykernel_645339/2604062622.py:4: DeprecationWarning: The argument `by` for `LazyFrame.rolling` is deprecated. It has been renamed to `group_by`.\n",
      "  .rolling(index_column=\"Event_Date\", period=\"99y\", by=\"CustomerID\", closed=\"both\")\n"
     ]
    }
   ],
   "source": [
    "policy_rolling_both = (\n",
    "    policy_event.lazy()\n",
    "    .sort([\"CustomerID\", \"Event_Date\"])\n",
    "    .rolling(index_column=\"Event_Date\", period=\"99y\", by=\"CustomerID\", closed=\"both\")\n",
    "    .agg(\n",
    "        pl.col(\"*\").sum(),\n",
    "    )\n",
    "    .drop(\"Policy\")\n",
    ").collect()\n",
    "\n",
    "# extract only lastest status, select only inforce customers\n",
    "policy_rolling_score = policy_rolling.group_by('CustomerID').last().filter(pl.col('Policy_Count')>0)"
   ]
  },
  {
   "cell_type": "markdown",
   "metadata": {},
   "source": [
    "## Policy Portfolio"
   ]
  },
  {
   "cell_type": "markdown",
   "metadata": {},
   "source": [
    "### Train"
   ]
  },
  {
   "cell_type": "code",
   "execution_count": 6,
   "metadata": {},
   "outputs": [
    {
     "name": "stderr",
     "output_type": "stream",
     "text": [
      "/tmp/ipykernel_645339/4014605910.py:2: DeprecationWarning: The argument `columns` for `DataFrame.pivot` is deprecated. It has been renamed to `on`.\n",
      "  df.pivot(\n",
      "/tmp/ipykernel_645339/4014605910.py:24: DeprecationWarning: The argument `columns` for `DataFrame.pivot` is deprecated. It has been renamed to `on`.\n",
      "  .pivot(\n",
      "/tmp/ipykernel_645339/4014605910.py:49: DeprecationWarning: The argument `by` for `DataFrame.rolling` is deprecated. It has been renamed to `group_by`.\n",
      "  .rolling(index_column=\"Event_Date\", period=\"99y\", by=\"CustomerID\", closed=\"left\")\n"
     ]
    }
   ],
   "source": [
    "policy_issue_event_count = (\n",
    "    df.pivot(\n",
    "        index=[\"CustomerID\", \"Policy_Issue_Date\"],\n",
    "        columns=\"Policy\",\n",
    "        values=\"CustomerID\",\n",
    "        aggregate_function=\"len\",\n",
    "    )\n",
    "    .fill_null(0)\n",
    "    .rename({\"Policy_Issue_Date\": \"Event_Date\"})[\n",
    "        [\n",
    "            \"CustomerID\",\n",
    "            \"Event_Date\",\n",
    "            \"Medical\",\n",
    "            \"Critical Illness\",\n",
    "            \"Endowment\",\n",
    "            \"Investment\",\n",
    "            \"Whole Life\",\n",
    "            \"Term Life\",\n",
    "        ]\n",
    "    ]\n",
    ")\n",
    "policy_terminate_event_count = (\n",
    "    df.filter(pl.col(\"Policy_Terminate_Date\").is_not_null())\n",
    "    .pivot(\n",
    "        index=[\"CustomerID\", \"Policy_Terminate_Date\"],\n",
    "        columns=\"Policy\",\n",
    "        values=\"CustomerID\",\n",
    "        aggregate_function=\"len\",\n",
    "    )\n",
    "    .fill_null(0)\n",
    "    .rename({\"Policy_Terminate_Date\": \"Event_Date\"})[\n",
    "        [\n",
    "            \"CustomerID\",\n",
    "            \"Event_Date\",\n",
    "            \"Medical\",\n",
    "            \"Critical Illness\",\n",
    "            \"Endowment\",\n",
    "            \"Investment\",\n",
    "            \"Whole Life\",\n",
    "            \"Term Life\",\n",
    "        ]\n",
    "    ]\n",
    ")\n",
    "\n",
    "policy_event_counts_train = (\n",
    "    pl.concat([policy_issue_event_count, policy_terminate_event_count])\n",
    "    .sort(\"CustomerID\", \"Event_Date\")\n",
    "    # .group_by([\"Customer\", \"Event_Date\"])\n",
    "    .rolling(index_column=\"Event_Date\", period=\"99y\", by=\"CustomerID\", closed=\"left\")\n",
    "    .agg(\n",
    "        pl.col(\"*\").sum(),\n",
    "    )\n",
    ")"
   ]
  },
  {
   "cell_type": "markdown",
   "metadata": {},
   "source": [
    "### Score"
   ]
  },
  {
   "cell_type": "code",
   "execution_count": 7,
   "metadata": {},
   "outputs": [],
   "source": [
    "policy_event_counts_score = policy_event_counts_train.group_by('CustomerID').last()"
   ]
  },
  {
   "cell_type": "markdown",
   "metadata": {},
   "source": [
    "## Static Features"
   ]
  },
  {
   "cell_type": "code",
   "execution_count": 8,
   "metadata": {},
   "outputs": [],
   "source": [
    "static_features = df[\n",
    "    [\n",
    "        \"CustomerID\",\n",
    "        \"Gender\",\n",
    "        'Age',\n",
    "        # \"Cust_Birthday\",\n",
    "        \"Income\",\n",
    "        \"Marital_Status\",\n",
    "        \"Dependents\",\n",
    "        \"Claims\",\n",
    "        \"Smoker\",\n",
    "        \"Payment_Timeliness\",\n",
    "        \"Payment_Frequency\",\n",
    "        \"Payment_Method\",\n",
    "        \"Recent_Payment_Months\",\n",
    "    ]\n",
    "]\n",
    "\n",
    "static_features = static_features.group_by('CustomerID').last()"
   ]
  },
  {
   "cell_type": "markdown",
   "metadata": {},
   "source": [
    "## Combined"
   ]
  },
  {
   "cell_type": "code",
   "execution_count": 9,
   "metadata": {},
   "outputs": [],
   "source": [
    "policy_train_df = policy_event_counts_train.join(policy_rolling_train, on=['CustomerID','Event_Date'])\n",
    "policy_score_df = policy_event_counts_score.join(policy_rolling_score, on=['CustomerID'])\n",
    "\n",
    "policy_train_df = policy_train_df.join(static_features, on ='CustomerID')\n",
    "policy_score_df = policy_score_df.join(static_features, on ='CustomerID')"
   ]
  },
  {
   "cell_type": "markdown",
   "metadata": {},
   "source": [
    "# Intermediate Output"
   ]
  },
  {
   "cell_type": "code",
   "execution_count": 10,
   "metadata": {},
   "outputs": [],
   "source": [
    "policy_train_df.write_parquet(\"data/L2/feature_eng_train.parquet\")\n",
    "policy_score_df.write_parquet(\"data/L2/feature_eng_score.parquet\")"
   ]
  },
  {
   "cell_type": "markdown",
   "metadata": {},
   "source": [
    "# Premodel processing"
   ]
  },
  {
   "cell_type": "code",
   "execution_count": 11,
   "metadata": {},
   "outputs": [],
   "source": [
    "policy_train_df = pl.read_parquet(\"data/L2/feature_eng_train.parquet\")\n",
    "policy_score_df = pl.read_parquet(\"data/L2/feature_eng_score.parquet\")"
   ]
  },
  {
   "cell_type": "code",
   "execution_count": 12,
   "metadata": {},
   "outputs": [],
   "source": [
    "train = policy_train_df.filter(pl.col('Policy_Count')>0)\n",
    "score = policy_score_df\n",
    "\n",
    "train = train.to_pandas()\n",
    "score = score.to_pandas()"
   ]
  },
  {
   "cell_type": "markdown",
   "metadata": {},
   "source": [
    "### Casting"
   ]
  },
  {
   "cell_type": "code",
   "execution_count": 13,
   "metadata": {},
   "outputs": [],
   "source": [
    "col_to_cast = ['Medical','Critical Illness','Endowment','Investment','Whole Life','Term Life']\n",
    "\n",
    "for i in col_to_cast:\n",
    "    train[i] = train[i].astype(int)\n",
    "    score[i] = score[i].astype(int)\n",
    "    \n",
    "col_to_cast = ['Payment_Timeliness','Payment_Frequency','Payment_Method','Marital_Status','Gender','Claims']\n",
    "\n",
    "for i in col_to_cast:\n",
    "    train[i] = train[i].astype(\"category\")\n",
    "    score[i] = score[i].astype(\"category\")\n",
    "    \n",
    "train[\"Event_Date\"] = pd.to_datetime(train[\"Event_Date\"])\n",
    "score[\"Event_Date\"] = pd.to_datetime(score[\"Event_Date\"])"
   ]
  },
  {
   "cell_type": "markdown",
   "metadata": {},
   "source": [
    "### Train/ Val Seperation"
   ]
  },
  {
   "cell_type": "code",
   "execution_count": 14,
   "metadata": {},
   "outputs": [],
   "source": [
    "train_df= train.loc[train['Event_Date']<datetime.datetime(2015,1,1)]\n",
    "val_df = train.loc[train['Event_Date']>=datetime.datetime(2015,1,1)]"
   ]
  },
  {
   "cell_type": "code",
   "execution_count": 15,
   "metadata": {},
   "outputs": [],
   "source": [
    "X_train = train_df.drop(['CustomerID','Event_Date'], axis=1)\n",
    "X_val = val_df.drop(['CustomerID','Event_Date'], axis=1)\n",
    "X_score = score.drop(['CustomerID','Event_Date'], axis=1)"
   ]
  },
  {
   "cell_type": "code",
   "execution_count": 16,
   "metadata": {},
   "outputs": [
    {
     "name": "stderr",
     "output_type": "stream",
     "text": [
      "/tmp/ipykernel_645339/878045389.py:3: FutureWarning: Downcasting behavior in `replace` is deprecated and will be removed in a future version. To retain the old behavior, explicitly call `result.infer_objects(copy=False)`. To opt-in to the future behavior, set `pd.set_option('future.no_silent_downcasting', True)`\n",
      "  X_train['Purchase_Policy'] = X_train['Purchase_Policy'].replace(policy_cat_map)\n",
      "/tmp/ipykernel_645339/878045389.py:4: FutureWarning: Downcasting behavior in `replace` is deprecated and will be removed in a future version. To retain the old behavior, explicitly call `result.infer_objects(copy=False)`. To opt-in to the future behavior, set `pd.set_option('future.no_silent_downcasting', True)`\n",
      "  X_val['Purchase_Policy'] = X_val['Purchase_Policy'].replace(policy_cat_map)\n"
     ]
    }
   ],
   "source": [
    "policy_cat_map = {'Medical':0,'Critical Illness':1, 'Endowment':2, 'Investment':3, 'Whole Life':4, 'Term Life':5}\n",
    "\n",
    "X_train['Purchase_Policy'] = X_train['Purchase_Policy'].replace(policy_cat_map)\n",
    "X_val['Purchase_Policy'] = X_val['Purchase_Policy'].replace(policy_cat_map)"
   ]
  },
  {
   "cell_type": "code",
   "execution_count": 17,
   "metadata": {},
   "outputs": [],
   "source": [
    "y_train = X_train.pop('Purchase_Policy')\n",
    "y_val = X_val.pop('Purchase_Policy')"
   ]
  },
  {
   "cell_type": "code",
   "execution_count": 18,
   "metadata": {},
   "outputs": [],
   "source": [
    "X_train.to_parquet(\"data/L2/X_train.parquet\")\n",
    "pd.DataFrame(y_train).to_parquet(\"data/L2/y_train.parquet\")\n",
    "X_val.to_parquet(\"data/L2/X_val.parquet\")\n",
    "pd.DataFrame(y_val).to_parquet(\"data/L2/y_val.parquet\")\n",
    "X_score.to_parquet(\"data/L2/X_score.parquet\")"
   ]
  },
  {
   "cell_type": "code",
   "execution_count": 19,
   "metadata": {},
   "outputs": [
    {
     "name": "stderr",
     "output_type": "stream",
     "text": [
      "Failed to detect the name of this notebook, you can set it manually with the WANDB_NOTEBOOK_NAME environment variable to enable code saving.\n",
      "\u001b[34m\u001b[1mwandb\u001b[0m: Currently logged in as: \u001b[33mhowt51\u001b[0m. Use \u001b[1m`wandb login --relogin`\u001b[0m to force relogin\n"
     ]
    }
   ],
   "source": [
    "import wandb\n",
    "from wandb.integration.lightgbm import wandb_callback, log_summary\n",
    "import joblib\n",
    "\n",
    "wandb.login()\n",
    "\n",
    "import lightgbm as lgb\n",
    "\n",
    "lgb_train = lgb.Dataset(X_train, y_train)\n",
    "lgb_eval = lgb.Dataset(X_val, y_val, reference=lgb_train)"
   ]
  },
  {
   "cell_type": "markdown",
   "metadata": {},
   "source": [
    "# LGBM Model"
   ]
  },
  {
   "cell_type": "code",
   "execution_count": 20,
   "metadata": {},
   "outputs": [
    {
     "data": {
      "text/html": [
       "Tracking run with wandb version 0.17.5"
      ],
      "text/plain": [
       "<IPython.core.display.HTML object>"
      ]
     },
     "metadata": {},
     "output_type": "display_data"
    },
    {
     "data": {
      "text/html": [
       "Run data is saved locally in <code>/home/howt/work/prudential_challange/wandb/run-20240722_024729-8tgo5a65</code>"
      ],
      "text/plain": [
       "<IPython.core.display.HTML object>"
      ]
     },
     "metadata": {},
     "output_type": "display_data"
    },
    {
     "data": {
      "text/html": [
       "Syncing run <strong><a href='https://wandb.ai/howt51/ai-coding-project/runs/8tgo5a65' target=\"_blank\">fragrant-field-10</a></strong> to <a href='https://wandb.ai/howt51/ai-coding-project' target=\"_blank\">Weights & Biases</a> (<a href='https://wandb.me/run' target=\"_blank\">docs</a>)<br/>"
      ],
      "text/plain": [
       "<IPython.core.display.HTML object>"
      ]
     },
     "metadata": {},
     "output_type": "display_data"
    },
    {
     "data": {
      "text/html": [
       " View project at <a href='https://wandb.ai/howt51/ai-coding-project' target=\"_blank\">https://wandb.ai/howt51/ai-coding-project</a>"
      ],
      "text/plain": [
       "<IPython.core.display.HTML object>"
      ]
     },
     "metadata": {},
     "output_type": "display_data"
    },
    {
     "data": {
      "text/html": [
       " View run at <a href='https://wandb.ai/howt51/ai-coding-project/runs/8tgo5a65' target=\"_blank\">https://wandb.ai/howt51/ai-coding-project/runs/8tgo5a65</a>"
      ],
      "text/plain": [
       "<IPython.core.display.HTML object>"
      ]
     },
     "metadata": {},
     "output_type": "display_data"
    },
    {
     "name": "stdout",
     "output_type": "stream",
     "text": [
      "[LightGBM] [Warning] Found whitespace in feature_names, replace with underlines\n",
      "[LightGBM] [Info] Auto-choosing row-wise multi-threading, the overhead of testing was 0.003531 seconds.\n",
      "You can set `force_row_wise=true` to remove the overhead.\n",
      "And if memory is not enough, you can set `force_col_wise=true`.\n",
      "[LightGBM] [Info] Total Bins 525\n",
      "[LightGBM] [Info] Number of data points in the train set: 449, number of used features: 20\n",
      "[LightGBM] [Warning] Found whitespace in feature_names, replace with underlines\n",
      "[LightGBM] [Info] Start training from score -0.930873\n",
      "[LightGBM] [Info] Start training from score -1.278709\n",
      "[LightGBM] [Info] Start training from score -1.750314\n",
      "[LightGBM] [Info] Start training from score -2.888147\n",
      "[LightGBM] [Info] Start training from score -2.928969\n",
      "[LightGBM] [Info] Start training from score -3.111291\n",
      "[LightGBM] [Warning] No further splits with positive gain, best gain: -inf\n",
      "[LightGBM] [Warning] No further splits with positive gain, best gain: -inf\n",
      "[LightGBM] [Warning] No further splits with positive gain, best gain: -inf\n",
      "[LightGBM] [Warning] No further splits with positive gain, best gain: -inf\n",
      "[LightGBM] [Warning] No further splits with positive gain, best gain: -inf\n",
      "[LightGBM] [Warning] No further splits with positive gain, best gain: -inf\n",
      "[LightGBM] [Warning] No further splits with positive gain, best gain: -inf\n",
      "[LightGBM] [Warning] No further splits with positive gain, best gain: -inf\n",
      "[LightGBM] [Warning] No further splits with positive gain, best gain: -inf\n",
      "[LightGBM] [Warning] No further splits with positive gain, best gain: -inf\n",
      "[LightGBM] [Warning] No further splits with positive gain, best gain: -inf\n",
      "[LightGBM] [Warning] No further splits with positive gain, best gain: -inf\n",
      "[LightGBM] [Warning] No further splits with positive gain, best gain: -inf\n",
      "[LightGBM] [Warning] No further splits with positive gain, best gain: -inf\n",
      "[LightGBM] [Warning] No further splits with positive gain, best gain: -inf\n",
      "[LightGBM] [Warning] No further splits with positive gain, best gain: -inf\n",
      "[LightGBM] [Warning] No further splits with positive gain, best gain: -inf\n",
      "[LightGBM] [Warning] No further splits with positive gain, best gain: -inf\n",
      "[LightGBM] [Warning] No further splits with positive gain, best gain: -inf\n",
      "[LightGBM] [Warning] No further splits with positive gain, best gain: -inf\n",
      "[LightGBM] [Warning] No further splits with positive gain, best gain: -inf\n",
      "[LightGBM] [Warning] No further splits with positive gain, best gain: -inf\n",
      "[LightGBM] [Warning] No further splits with positive gain, best gain: -inf\n",
      "[LightGBM] [Warning] No further splits with positive gain, best gain: -inf\n",
      "[LightGBM] [Warning] No further splits with positive gain, best gain: -inf\n",
      "[LightGBM] [Warning] No further splits with positive gain, best gain: -inf\n",
      "[LightGBM] [Warning] No further splits with positive gain, best gain: -inf\n",
      "[LightGBM] [Warning] No further splits with positive gain, best gain: -inf\n",
      "[LightGBM] [Warning] No further splits with positive gain, best gain: -inf\n",
      "[LightGBM] [Warning] No further splits with positive gain, best gain: -inf\n",
      "[LightGBM] [Warning] No further splits with positive gain, best gain: -inf\n",
      "[LightGBM] [Warning] No further splits with positive gain, best gain: -inf\n",
      "[LightGBM] [Warning] No further splits with positive gain, best gain: -inf\n",
      "[LightGBM] [Warning] No further splits with positive gain, best gain: -inf\n",
      "[LightGBM] [Warning] No further splits with positive gain, best gain: -inf\n",
      "[LightGBM] [Warning] No further splits with positive gain, best gain: -inf\n",
      "[LightGBM] [Warning] No further splits with positive gain, best gain: -inf\n",
      "[LightGBM] [Warning] No further splits with positive gain, best gain: -inf\n",
      "[LightGBM] [Warning] No further splits with positive gain, best gain: -inf\n",
      "[LightGBM] [Warning] No further splits with positive gain, best gain: -inf\n",
      "[LightGBM] [Warning] No further splits with positive gain, best gain: -inf\n",
      "[LightGBM] [Warning] No further splits with positive gain, best gain: -inf\n",
      "[LightGBM] [Warning] No further splits with positive gain, best gain: -inf\n",
      "[LightGBM] [Warning] No further splits with positive gain, best gain: -inf\n",
      "[LightGBM] [Warning] No further splits with positive gain, best gain: -inf\n",
      "[LightGBM] [Warning] No further splits with positive gain, best gain: -inf\n",
      "[LightGBM] [Warning] No further splits with positive gain, best gain: -inf\n",
      "[LightGBM] [Warning] No further splits with positive gain, best gain: -inf\n",
      "[LightGBM] [Warning] No further splits with positive gain, best gain: -inf\n",
      "[LightGBM] [Warning] No further splits with positive gain, best gain: -inf\n",
      "[LightGBM] [Warning] No further splits with positive gain, best gain: -inf\n",
      "[LightGBM] [Warning] No further splits with positive gain, best gain: -inf\n",
      "[LightGBM] [Warning] No further splits with positive gain, best gain: -inf\n",
      "[LightGBM] [Warning] No further splits with positive gain, best gain: -inf\n",
      "[LightGBM] [Warning] No further splits with positive gain, best gain: -inf\n",
      "[LightGBM] [Warning] No further splits with positive gain, best gain: -inf\n",
      "[LightGBM] [Warning] No further splits with positive gain, best gain: -inf\n",
      "[LightGBM] [Warning] No further splits with positive gain, best gain: -inf\n",
      "[LightGBM] [Warning] No further splits with positive gain, best gain: -inf\n",
      "[LightGBM] [Warning] No further splits with positive gain, best gain: -inf\n",
      "[LightGBM] [Warning] No further splits with positive gain, best gain: -inf\n",
      "[LightGBM] [Warning] No further splits with positive gain, best gain: -inf\n",
      "[LightGBM] [Warning] No further splits with positive gain, best gain: -inf\n",
      "[LightGBM] [Warning] No further splits with positive gain, best gain: -inf\n",
      "[LightGBM] [Warning] No further splits with positive gain, best gain: -inf\n",
      "[LightGBM] [Warning] No further splits with positive gain, best gain: -inf\n",
      "[LightGBM] [Warning] No further splits with positive gain, best gain: -inf\n",
      "[LightGBM] [Warning] No further splits with positive gain, best gain: -inf\n",
      "[LightGBM] [Warning] No further splits with positive gain, best gain: -inf\n",
      "[LightGBM] [Warning] No further splits with positive gain, best gain: -inf\n",
      "[LightGBM] [Warning] No further splits with positive gain, best gain: -inf\n",
      "[LightGBM] [Warning] No further splits with positive gain, best gain: -inf\n",
      "[LightGBM] [Warning] No further splits with positive gain, best gain: -inf\n",
      "[LightGBM] [Warning] No further splits with positive gain, best gain: -inf\n",
      "[LightGBM] [Warning] No further splits with positive gain, best gain: -inf\n",
      "[LightGBM] [Warning] No further splits with positive gain, best gain: -inf\n",
      "[LightGBM] [Warning] No further splits with positive gain, best gain: -inf\n",
      "[LightGBM] [Warning] No further splits with positive gain, best gain: -inf\n",
      "[LightGBM] [Warning] No further splits with positive gain, best gain: -inf\n",
      "[LightGBM] [Warning] No further splits with positive gain, best gain: -inf\n",
      "[LightGBM] [Warning] No further splits with positive gain, best gain: -inf\n",
      "[LightGBM] [Warning] No further splits with positive gain, best gain: -inf\n",
      "[LightGBM] [Warning] No further splits with positive gain, best gain: -inf\n",
      "[LightGBM] [Warning] No further splits with positive gain, best gain: -inf\n",
      "[LightGBM] [Warning] No further splits with positive gain, best gain: -inf\n",
      "[LightGBM] [Warning] No further splits with positive gain, best gain: -inf\n",
      "[LightGBM] [Warning] No further splits with positive gain, best gain: -inf\n",
      "[LightGBM] [Warning] No further splits with positive gain, best gain: -inf\n",
      "[LightGBM] [Warning] No further splits with positive gain, best gain: -inf\n",
      "[LightGBM] [Warning] No further splits with positive gain, best gain: -inf\n",
      "[LightGBM] [Warning] No further splits with positive gain, best gain: -inf\n",
      "[LightGBM] [Warning] No further splits with positive gain, best gain: -inf\n",
      "[LightGBM] [Warning] No further splits with positive gain, best gain: -inf\n",
      "[LightGBM] [Warning] No further splits with positive gain, best gain: -inf\n",
      "[LightGBM] [Warning] No further splits with positive gain, best gain: -inf\n",
      "[LightGBM] [Warning] No further splits with positive gain, best gain: -inf\n",
      "[LightGBM] [Warning] No further splits with positive gain, best gain: -inf\n",
      "[LightGBM] [Warning] No further splits with positive gain, best gain: -inf\n",
      "[LightGBM] [Warning] No further splits with positive gain, best gain: -inf\n",
      "[LightGBM] [Warning] No further splits with positive gain, best gain: -inf\n",
      "[LightGBM] [Warning] No further splits with positive gain, best gain: -inf\n",
      "[LightGBM] [Warning] No further splits with positive gain, best gain: -inf\n",
      "[LightGBM] [Warning] No further splits with positive gain, best gain: -inf\n",
      "[LightGBM] [Warning] No further splits with positive gain, best gain: -inf\n",
      "[LightGBM] [Warning] No further splits with positive gain, best gain: -inf\n",
      "[LightGBM] [Warning] No further splits with positive gain, best gain: -inf\n",
      "[LightGBM] [Warning] No further splits with positive gain, best gain: -inf\n",
      "[LightGBM] [Warning] No further splits with positive gain, best gain: -inf\n",
      "[LightGBM] [Warning] No further splits with positive gain, best gain: -inf\n",
      "[LightGBM] [Warning] No further splits with positive gain, best gain: -inf\n",
      "[LightGBM] [Warning] No further splits with positive gain, best gain: -inf\n",
      "[LightGBM] [Warning] No further splits with positive gain, best gain: -inf\n",
      "[LightGBM] [Warning] No further splits with positive gain, best gain: -inf\n",
      "[LightGBM] [Warning] No further splits with positive gain, best gain: -inf\n",
      "[LightGBM] [Warning] No further splits with positive gain, best gain: -inf\n",
      "[LightGBM] [Warning] No further splits with positive gain, best gain: -inf\n",
      "[LightGBM] [Warning] No further splits with positive gain, best gain: -inf\n",
      "[LightGBM] [Warning] No further splits with positive gain, best gain: -inf\n",
      "[LightGBM] [Warning] No further splits with positive gain, best gain: -inf\n",
      "[LightGBM] [Warning] No further splits with positive gain, best gain: -inf\n",
      "[LightGBM] [Warning] No further splits with positive gain, best gain: -inf\n",
      "[LightGBM] [Warning] No further splits with positive gain, best gain: -inf\n",
      "[LightGBM] [Warning] No further splits with positive gain, best gain: -inf\n",
      "[LightGBM] [Warning] No further splits with positive gain, best gain: -inf\n",
      "[LightGBM] [Warning] No further splits with positive gain, best gain: -inf\n",
      "[LightGBM] [Warning] No further splits with positive gain, best gain: -inf\n",
      "[LightGBM] [Warning] No further splits with positive gain, best gain: -inf\n",
      "[LightGBM] [Warning] No further splits with positive gain, best gain: -inf\n",
      "[LightGBM] [Warning] No further splits with positive gain, best gain: -inf\n",
      "[LightGBM] [Warning] No further splits with positive gain, best gain: -inf\n",
      "[LightGBM] [Warning] No further splits with positive gain, best gain: -inf\n",
      "[LightGBM] [Warning] No further splits with positive gain, best gain: -inf\n",
      "[LightGBM] [Warning] No further splits with positive gain, best gain: -inf\n",
      "[LightGBM] [Warning] No further splits with positive gain, best gain: -inf\n",
      "[LightGBM] [Warning] No further splits with positive gain, best gain: -inf\n",
      "[LightGBM] [Warning] No further splits with positive gain, best gain: -inf\n",
      "[LightGBM] [Warning] No further splits with positive gain, best gain: -inf\n",
      "[LightGBM] [Warning] No further splits with positive gain, best gain: -inf\n",
      "[LightGBM] [Warning] No further splits with positive gain, best gain: -inf\n",
      "[LightGBM] [Warning] No further splits with positive gain, best gain: -inf\n",
      "[LightGBM] [Warning] No further splits with positive gain, best gain: -inf\n",
      "[LightGBM] [Warning] No further splits with positive gain, best gain: -inf\n",
      "[LightGBM] [Warning] No further splits with positive gain, best gain: -inf\n",
      "[LightGBM] [Warning] No further splits with positive gain, best gain: -inf\n",
      "[LightGBM] [Warning] No further splits with positive gain, best gain: -inf\n",
      "[LightGBM] [Warning] No further splits with positive gain, best gain: -inf\n",
      "[LightGBM] [Warning] No further splits with positive gain, best gain: -inf\n",
      "[LightGBM] [Warning] No further splits with positive gain, best gain: -inf\n",
      "[LightGBM] [Warning] No further splits with positive gain, best gain: -inf\n",
      "[LightGBM] [Warning] No further splits with positive gain, best gain: -inf\n",
      "[LightGBM] [Warning] No further splits with positive gain, best gain: -inf\n",
      "[LightGBM] [Warning] No further splits with positive gain, best gain: -inf\n",
      "[LightGBM] [Warning] No further splits with positive gain, best gain: -inf\n",
      "[LightGBM] [Warning] No further splits with positive gain, best gain: -inf\n",
      "[LightGBM] [Warning] No further splits with positive gain, best gain: -inf\n",
      "[LightGBM] [Warning] No further splits with positive gain, best gain: -inf\n",
      "[LightGBM] [Warning] No further splits with positive gain, best gain: -inf\n",
      "[LightGBM] [Warning] No further splits with positive gain, best gain: -inf\n",
      "[LightGBM] [Warning] No further splits with positive gain, best gain: -inf\n",
      "[LightGBM] [Warning] No further splits with positive gain, best gain: -inf\n",
      "[LightGBM] [Warning] No further splits with positive gain, best gain: -inf\n",
      "[LightGBM] [Warning] No further splits with positive gain, best gain: -inf\n",
      "[LightGBM] [Warning] No further splits with positive gain, best gain: -inf\n",
      "[LightGBM] [Warning] No further splits with positive gain, best gain: -inf\n",
      "[LightGBM] [Warning] No further splits with positive gain, best gain: -inf\n",
      "[LightGBM] [Warning] No further splits with positive gain, best gain: -inf\n",
      "[LightGBM] [Warning] No further splits with positive gain, best gain: -inf\n",
      "[LightGBM] [Warning] No further splits with positive gain, best gain: -inf\n",
      "[LightGBM] [Warning] No further splits with positive gain, best gain: -inf\n",
      "[LightGBM] [Warning] No further splits with positive gain, best gain: -inf\n",
      "[LightGBM] [Warning] No further splits with positive gain, best gain: -inf\n",
      "[LightGBM] [Warning] No further splits with positive gain, best gain: -inf\n",
      "[LightGBM] [Warning] No further splits with positive gain, best gain: -inf\n",
      "[LightGBM] [Warning] No further splits with positive gain, best gain: -inf\n",
      "[LightGBM] [Warning] No further splits with positive gain, best gain: -inf\n",
      "[LightGBM] [Warning] No further splits with positive gain, best gain: -inf\n",
      "[LightGBM] [Warning] No further splits with positive gain, best gain: -inf\n",
      "[LightGBM] [Warning] No further splits with positive gain, best gain: -inf\n",
      "[LightGBM] [Warning] No further splits with positive gain, best gain: -inf\n",
      "[LightGBM] [Warning] No further splits with positive gain, best gain: -inf\n"
     ]
    },
    {
     "data": {
      "text/plain": [
       "['model/lgb_multiclass.pkl']"
      ]
     },
     "execution_count": 20,
     "metadata": {},
     "output_type": "execute_result"
    }
   ],
   "source": [
    "# train \n",
    "# add lightgbm callback\n",
    "parmas = {\n",
    "    'objective': 'multiclass',\n",
    "    'num_class': 6,\n",
    "    'metric': 'multi_logloss'\n",
    "    }\n",
    "\n",
    "wandb_run = wandb.init(project='ai-coding-project', config=parmas)\n",
    "gbm = lgb.train(parmas,\n",
    "                lgb_train,\n",
    "                num_boost_round=30,\n",
    "                valid_sets=lgb_eval,\n",
    "                valid_names=('validation'),\n",
    "                callbacks=[wandb_callback()],\n",
    "                )\n",
    "\n",
    "# wandb log model metrics (basic)\n",
    "log_summary(gbm, save_model_checkpoint=True)\n",
    "\n",
    "# save model\n",
    "joblib.dump(gbm, 'model/lgb_multiclass.pkl')"
   ]
  }
 ],
 "metadata": {
  "kernelspec": {
   "display_name": "py312syndata",
   "language": "python",
   "name": "python3"
  },
  "language_info": {
   "codemirror_mode": {
    "name": "ipython",
    "version": 3
   },
   "file_extension": ".py",
   "mimetype": "text/x-python",
   "name": "python",
   "nbconvert_exporter": "python",
   "pygments_lexer": "ipython3",
   "version": "3.12.4"
  }
 },
 "nbformat": 4,
 "nbformat_minor": 2
}
