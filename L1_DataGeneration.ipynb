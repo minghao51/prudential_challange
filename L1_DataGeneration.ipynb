{
 "cells": [
  {
   "cell_type": "markdown",
   "metadata": {},
   "source": [
    "# Data Generation\n",
    "## Generating cross-sell & upsell data with SVD\n",
    "- Select customers of certain profile - high value (premium/income) / dependences/ recency, and use rules to set them to purchase additional policies\n",
    "- To maintain consistent customer profile, after synthesizing the data, we would substitute the customer profile and size with that of data before.\n",
    "    1. GaussianCopulaSynthesizer\n",
    "    2. Constraint\n",
    "    3. Conditional Generation\n",
    "- Aim to get like 20% of the customers with either upsell/xsell"
   ]
  },
  {
   "cell_type": "markdown",
   "metadata": {
    "vscode": {
     "languageId": "plaintext"
    }
   },
   "source": [
    "## Incorperating business insights/trends\n",
    "Profile to synthesis (for Xsell/Upsell)\n",
    "\n",
    "1. Income/Proxy for alfluence\n",
    "\n",
    "    - High-income earners (> $90,000) are more likely to have larger policies with broader coverage, such as Investment and Whole Life policies.\n",
    "    - Mid-income earners ($60,000 - $90,000) often choose Critical Illness or Medical policies.\n",
    "    - Affluence customer would seek more coverage.\n",
    "\n",
    "2. Marital Status and Dependents:\n",
    "\n",
    "    - Married customers with dependents tend to opt for policies with higher coverage, ensuring family protection.\n",
    "    - Single individuals often select policies like Term Life for basic coverage.\n",
    "\n",
    "3. Health Conditions:\n",
    "\n",
    "    - Customers with existing health conditions (e.g., Diabetes, High Blood Pressure) often choose Critical Illness or Medical policies to cover potential medical expenses.\n",
    "\n",
    "4. Under insured\n",
    "\n",
    "    - Customers with high premium (Due to investment/endowment) yet little to no insured amount can be considered as a prospect.\n",
    "\n",
    "### Not Used\n",
    "\n",
    "4. Payment History:\n",
    "\n",
    "Customers with consistent on-time payments might receive discounts or premium breaks, indicating reliability.\n",
    "Those with late payments could be flagged for potential churn and might benefit from personalized payment plans or reminders.\n",
    "\n",
    "\n",
    "\n",
    "5. Policy Status and Future Opportunities:\n",
    "\n",
    "Customers nearing the end of their Term Life policy could be approached with options to convert to Whole Life policies.\n",
    "High-value policyholders with increasing incomes might be suitable candidates for upgrading their insured amount."
   ]
  },
  {
   "cell_type": "markdown",
   "metadata": {},
   "source": [
    "## Library"
   ]
  },
  {
   "cell_type": "code",
   "execution_count": 123,
   "metadata": {},
   "outputs": [],
   "source": [
    "import seaborn as sns\n",
    "import pandas as pd\n",
    "import numpy as np\n",
    "import matplotlib.pyplot as plt\n",
    "import datetime\n",
    "from dateutil.relativedelta import relativedelta\n",
    "\n",
    "import math"
   ]
  },
  {
   "cell_type": "markdown",
   "metadata": {},
   "source": [
    "# Input"
   ]
  },
  {
   "cell_type": "code",
   "execution_count": 124,
   "metadata": {},
   "outputs": [],
   "source": [
    "data = pd.read_parquet(\"data/L0/mock_rules_enriched_data.parquet\")"
   ]
  },
  {
   "cell_type": "code",
   "execution_count": 125,
   "metadata": {},
   "outputs": [],
   "source": [
    "# Creating Flag for Conditions\n",
    "data[\"under_insured\"] = (data[\"Income\"] > 40000) & (data[\"Insured_Amount\"] == 0)\n",
    "data[\"high_income\"] = data[\"Income\"] > 70000\n",
    "data[\"dependents_needs\"] = data[\"Dependents\"] > 2\n",
    "data[\"recent_purchase\"] = data[\"Recent_Purchase_Months\"] < 1"
   ]
  },
  {
   "cell_type": "markdown",
   "metadata": {},
   "source": [
    "# SDV\n",
    "### Metadata"
   ]
  },
  {
   "cell_type": "code",
   "execution_count": 126,
   "metadata": {},
   "outputs": [],
   "source": [
    "from sdv.metadata import SingleTableMetadata\n",
    "\n",
    "metadata = SingleTableMetadata()\n",
    "metadata.detect_from_dataframe(data)"
   ]
  },
  {
   "cell_type": "code",
   "execution_count": 127,
   "metadata": {},
   "outputs": [
    {
     "data": {
      "text/plain": [
       "{'primary_key': 'CustomerID',\n",
       " 'METADATA_SPEC_VERSION': 'SINGLE_TABLE_V1',\n",
       " 'columns': {'CustomerID': {'sdtype': 'id'},\n",
       "  'Age': {'sdtype': 'numerical'},\n",
       "  'Gender': {'sdtype': 'categorical'},\n",
       "  'Income': {'sdtype': 'numerical'},\n",
       "  'Marital_Status': {'sdtype': 'categorical'},\n",
       "  'Dependents': {'sdtype': 'categorical'},\n",
       "  'Claims': {'sdtype': 'categorical'},\n",
       "  'Policy': {'sdtype': 'categorical'},\n",
       "  'Premium_Amount': {'sdtype': 'numerical'},\n",
       "  'Insured_Amount': {'sdtype': 'numerical'},\n",
       "  'Payment_Timeliness': {'sdtype': 'categorical'},\n",
       "  'Payment_Frequency': {'sdtype': 'categorical'},\n",
       "  'Payment_Method': {'sdtype': 'categorical'},\n",
       "  'Recent_Payment_Months': {'sdtype': 'numerical'},\n",
       "  'Recent_Purchase_Months': {'sdtype': 'numerical'},\n",
       "  'Policy_Purchase_Years': {'sdtype': 'numerical'},\n",
       "  'Customer_Tenure_Years': {'sdtype': 'numerical'},\n",
       "  'Smoker': {'sdtype': 'categorical'},\n",
       "  'Policy_Issue_Date': {'sdtype': 'datetime', 'datetime_format': '%Y-%m-%d'},\n",
       "  'Policy_Terminate_Date': {'sdtype': 'datetime',\n",
       "   'datetime_format': '%Y-%m-%d'},\n",
       "  'under_insured': {'sdtype': 'categorical'},\n",
       "  'high_income': {'sdtype': 'categorical'},\n",
       "  'dependents_needs': {'sdtype': 'categorical'},\n",
       "  'recent_purchase': {'sdtype': 'categorical'}}}"
      ]
     },
     "execution_count": 127,
     "metadata": {},
     "output_type": "execute_result"
    }
   ],
   "source": [
    "metadata.to_dict()"
   ]
  },
  {
   "cell_type": "code",
   "execution_count": 128,
   "metadata": {},
   "outputs": [
    {
     "name": "stderr",
     "output_type": "stream",
     "text": [
      "/home/howt/mambaforge/envs/py312syndata/lib/python3.12/site-packages/sdv/single_table/base.py:92: UserWarning: We strongly recommend saving the metadata using 'save_to_json' for replicability in future SDV versions.\n",
      "  warnings.warn(\n"
     ]
    }
   ],
   "source": [
    "from sdv.single_table import GaussianCopulaSynthesizer\n",
    "\n",
    "synthesizer = GaussianCopulaSynthesizer(metadata)"
   ]
  },
  {
   "cell_type": "markdown",
   "metadata": {},
   "source": [
    "### Constraint"
   ]
  },
  {
   "cell_type": "code",
   "execution_count": 129,
   "metadata": {},
   "outputs": [],
   "source": [
    "# Positive\n",
    "recent_purchase_months_constraint = {\n",
    "    \"constraint_class\": \"Positive\",\n",
    "    \"constraint_parameters\": {\n",
    "        \"column_name\": \"Recent_Purchase_Months\",\n",
    "        \"strict_boundaries\": True,\n",
    "    },\n",
    "}\n",
    "\n",
    "customer_tenure_years_constraint = {\n",
    "    \"constraint_class\": \"Positive\",\n",
    "    \"constraint_parameters\": {\n",
    "        \"column_name\": \"Customer_Tenure_Years\",\n",
    "        \"strict_boundaries\": True,\n",
    "    },\n",
    "}\n",
    "\n",
    "policy_purchase_years_constraint = {\n",
    "    \"constraint_class\": \"Positive\",\n",
    "    \"constraint_parameters\": {\n",
    "        \"column_name\": \"Policy_Purchase_Years\",\n",
    "        \"strict_boundaries\": True,\n",
    "    },\n",
    "}\n",
    "# For every row, the value in one column must be greater than a value in another.\n",
    "policy_date_constraint = {\n",
    "    \"constraint_class\": \"Inequality\",\n",
    "    \"constraint_parameters\": {\n",
    "        \"low_column_name\": \"Policy_Issue_Date\",\n",
    "        \"high_column_name\": \"Policy_Terminate_Date\",\n",
    "        \"strict_boundaries\": True,\n",
    "    },\n",
    "}"
   ]
  },
  {
   "cell_type": "code",
   "execution_count": 130,
   "metadata": {},
   "outputs": [],
   "source": [
    "synthesizer.add_constraints(\n",
    "    constraints=[\n",
    "        policy_date_constraint\n",
    "    ]  # recent_purchase_months_constraint, customer_tenure_years_constraint, policy_purchase_years_constraint,\n",
    ")"
   ]
  },
  {
   "cell_type": "markdown",
   "metadata": {},
   "source": [
    "### Proprocessing"
   ]
  },
  {
   "cell_type": "code",
   "execution_count": 131,
   "metadata": {},
   "outputs": [
    {
     "data": {
      "text/plain": [
       "{'CustomerID': AnonymizedFaker(function_name='bothify', function_kwargs={'text': '#########'}, cardinality_rule='unique'),\n",
       " 'Age': FloatFormatter(learn_rounding_scheme=True, enforce_min_max_values=True),\n",
       " 'Gender': UniformEncoder(),\n",
       " 'Income': FloatFormatter(learn_rounding_scheme=True, enforce_min_max_values=True),\n",
       " 'Marital_Status': UniformEncoder(),\n",
       " 'Dependents': UniformEncoder(),\n",
       " 'Claims': UniformEncoder(),\n",
       " 'Policy': UniformEncoder(),\n",
       " 'Premium_Amount': FloatFormatter(learn_rounding_scheme=True, enforce_min_max_values=True),\n",
       " 'Insured_Amount': FloatFormatter(learn_rounding_scheme=True, enforce_min_max_values=True),\n",
       " 'Payment_Timeliness': UniformEncoder(),\n",
       " 'Payment_Frequency': UniformEncoder(),\n",
       " 'Payment_Method': UniformEncoder(),\n",
       " 'Recent_Payment_Months': FloatFormatter(learn_rounding_scheme=True, enforce_min_max_values=True),\n",
       " 'Recent_Purchase_Months': FloatFormatter(learn_rounding_scheme=True, enforce_min_max_values=True),\n",
       " 'Policy_Purchase_Years': FloatFormatter(learn_rounding_scheme=True, enforce_min_max_values=True),\n",
       " 'Customer_Tenure_Years': FloatFormatter(learn_rounding_scheme=True, enforce_min_max_values=True),\n",
       " 'Smoker': UniformEncoder(),\n",
       " 'Policy_Issue_Date': UnixTimestampEncoder(datetime_format='%Y-%m-%d', enforce_min_max_values=True),\n",
       " 'under_insured': UniformEncoder(),\n",
       " 'high_income': UniformEncoder(),\n",
       " 'dependents_needs': UniformEncoder(),\n",
       " 'recent_purchase': UniformEncoder(),\n",
       " 'Policy_Issue_Date#Policy_Terminate_Date.nan_component': UniformEncoder(),\n",
       " 'Policy_Issue_Date#Policy_Terminate_Date': FloatFormatter(enforce_min_max_values=True)}"
      ]
     },
     "execution_count": 131,
     "metadata": {},
     "output_type": "execute_result"
    }
   ],
   "source": [
    "synthesizer.auto_assign_transformers(data)\n",
    "synthesizer.get_transformers()"
   ]
  },
  {
   "cell_type": "code",
   "execution_count": 132,
   "metadata": {},
   "outputs": [],
   "source": [
    "from rdt.transformers import AnonymizedFaker, PseudoAnonymizedFaker\n",
    "from rdt.transformers import UniformEncoder\n",
    "\n",
    "\n",
    "synthesizer.update_transformers(\n",
    "    column_name_to_transformer={\n",
    "        \"CustomerID\": AnonymizedFaker(\n",
    "            function_name=\"bothify\",\n",
    "            function_kwargs={\"text\": \"####\"},\n",
    "            cardinality_rule=\"match\",\n",
    "        ),\n",
    "        # 'Gender': PseudoAnonymizedFaker(function_name='bothify', cardinality_rule='match'),\n",
    "    }\n",
    ")"
   ]
  },
  {
   "cell_type": "code",
   "execution_count": 133,
   "metadata": {},
   "outputs": [
    {
     "data": {
      "text/plain": [
       "{'CustomerID': AnonymizedFaker(function_name='bothify', function_kwargs={'text': '####'}, cardinality_rule='match'),\n",
       " 'Age': FloatFormatter(learn_rounding_scheme=True, enforce_min_max_values=True),\n",
       " 'Gender': UniformEncoder(),\n",
       " 'Income': FloatFormatter(learn_rounding_scheme=True, enforce_min_max_values=True),\n",
       " 'Marital_Status': UniformEncoder(),\n",
       " 'Dependents': UniformEncoder(),\n",
       " 'Claims': UniformEncoder(),\n",
       " 'Policy': UniformEncoder(),\n",
       " 'Premium_Amount': FloatFormatter(learn_rounding_scheme=True, enforce_min_max_values=True),\n",
       " 'Insured_Amount': FloatFormatter(learn_rounding_scheme=True, enforce_min_max_values=True),\n",
       " 'Payment_Timeliness': UniformEncoder(),\n",
       " 'Payment_Frequency': UniformEncoder(),\n",
       " 'Payment_Method': UniformEncoder(),\n",
       " 'Recent_Payment_Months': FloatFormatter(learn_rounding_scheme=True, enforce_min_max_values=True),\n",
       " 'Recent_Purchase_Months': FloatFormatter(learn_rounding_scheme=True, enforce_min_max_values=True),\n",
       " 'Policy_Purchase_Years': FloatFormatter(learn_rounding_scheme=True, enforce_min_max_values=True),\n",
       " 'Customer_Tenure_Years': FloatFormatter(learn_rounding_scheme=True, enforce_min_max_values=True),\n",
       " 'Smoker': UniformEncoder(),\n",
       " 'Policy_Issue_Date': UnixTimestampEncoder(datetime_format='%Y-%m-%d', enforce_min_max_values=True),\n",
       " 'under_insured': UniformEncoder(),\n",
       " 'high_income': UniformEncoder(),\n",
       " 'dependents_needs': UniformEncoder(),\n",
       " 'recent_purchase': UniformEncoder(),\n",
       " 'Policy_Issue_Date#Policy_Terminate_Date.nan_component': UniformEncoder(),\n",
       " 'Policy_Issue_Date#Policy_Terminate_Date': FloatFormatter(enforce_min_max_values=True)}"
      ]
     },
     "execution_count": 133,
     "metadata": {},
     "output_type": "execute_result"
    }
   ],
   "source": [
    "synthesizer.get_transformers()"
   ]
  },
  {
   "cell_type": "code",
   "execution_count": 134,
   "metadata": {},
   "outputs": [],
   "source": [
    "synthesizer.fit(data)"
   ]
  },
  {
   "cell_type": "markdown",
   "metadata": {},
   "source": [
    "### Conditional Sampling\n",
    "To synthesis selected customer with cross-sell"
   ]
  },
  {
   "cell_type": "code",
   "execution_count": 135,
   "metadata": {},
   "outputs": [],
   "source": [
    "from sdv.sampling import Condition\n",
    "\n",
    "# Setings Conditions\n",
    "high_income = Condition(num_rows=250, column_values={\"high_income\": True})\n",
    "under_insured = Condition(num_rows=250, column_values={\"under_insured\": True})\n",
    "dependents_needs = Condition(num_rows=100, column_values={\"dependents_needs\": True})\n",
    "recent_purchase = Condition(num_rows=100, column_values={\"recent_purchase\": True})"
   ]
  },
  {
   "cell_type": "code",
   "execution_count": 136,
   "metadata": {},
   "outputs": [
    {
     "name": "stderr",
     "output_type": "stream",
     "text": [
      "Sampling conditions: 100%|██████████| 250/250 [00:00<00:00, 919.51it/s]\n",
      "Sampling conditions: 100%|██████████| 250/250 [00:00<00:00, 996.73it/s] \n",
      "Sampling conditions: 100%|██████████| 100/100 [00:00<00:00, 631.79it/s]\n",
      "Sampling conditions: 100%|██████████| 100/100 [00:00<00:00, 637.86it/s]\n",
      "Sampling rows: 100%|██████████| 100/100 [00:00<00:00, 736.14it/s]\n"
     ]
    }
   ],
   "source": [
    "synthetic_high_income_data = synthesizer.sample_from_conditions(\n",
    "    conditions=[high_income],\n",
    ")\n",
    "synthetic_under_insured_data = synthesizer.sample_from_conditions(\n",
    "    conditions=[under_insured],\n",
    ")\n",
    "synthetic_dependents_needs_data = synthesizer.sample_from_conditions(\n",
    "    conditions=[dependents_needs],\n",
    ")\n",
    "synthetic_recent_purchase_data = synthesizer.sample_from_conditions(\n",
    "    conditions=[recent_purchase],\n",
    ")\n",
    "synthetic_general_data = synthesizer.sample(num_rows=100, batch_size=1_000)"
   ]
  },
  {
   "cell_type": "code",
   "execution_count": 137,
   "metadata": {},
   "outputs": [],
   "source": [
    "# affix it to exisiting ID\n",
    "under_insured_customer = data.loc[data[\"under_insured\"] == True]\n",
    "synthetic_under_insured_data[\"CustomerID\"] = under_insured_customer[:300].reset_index()[\n",
    "    \"CustomerID\"\n",
    "]\n",
    "\n",
    "high_income_customer = data.loc[data[\"high_income\"] == True]\n",
    "synthetic_high_income_data[\"CustomerID\"] = high_income_customer[:250].reset_index()[\n",
    "    \"CustomerID\"\n",
    "]\n",
    "\n",
    "dependents_customer = data.loc[data[\"dependents_needs\"] == True]\n",
    "synthetic_dependents_needs_data[\"CustomerID\"] = dependents_customer[:100].reset_index()[\n",
    "    \"CustomerID\"\n",
    "]\n",
    "\n",
    "recent_customer = data.loc[data[\"recent_purchase\"] == True]\n",
    "synthetic_recent_purchase_data[\"CustomerID\"] = recent_customer[:100].reset_index()[\n",
    "    \"CustomerID\"\n",
    "]\n",
    "\n",
    "# sampling\n",
    "rand_zero_one_mask = data.sample(100).index\n",
    "synthetic_general_data[\"CustomerID\"] = data.loc[rand_zero_one_mask].reset_index()[\n",
    "    \"CustomerID\"\n",
    "]"
   ]
  },
  {
   "cell_type": "code",
   "execution_count": 138,
   "metadata": {},
   "outputs": [],
   "source": [
    "combined_data = pd.concat(\n",
    "    [\n",
    "        data,\n",
    "        synthetic_under_insured_data,\n",
    "        synthetic_high_income_data,\n",
    "        synthetic_dependents_needs_data,\n",
    "        synthetic_recent_purchase_data,\n",
    "        synthetic_general_data,\n",
    "    ]\n",
    ")"
   ]
  },
  {
   "cell_type": "markdown",
   "metadata": {},
   "source": [
    "# Split to Static and Sequence (Updating) Table\n",
    "- To ease clean up, and unifiying the data so that customers with same ID would have same ID."
   ]
  },
  {
   "cell_type": "code",
   "execution_count": 139,
   "metadata": {},
   "outputs": [],
   "source": [
    "static_data = combined_data[[\"CustomerID\", \"Gender\", \"Age\"]]\n",
    "static_data = static_data.groupby(\"CustomerID\").last()\n",
    "static_data[\"Cust_Birthday\"] = [\n",
    "    (datetime.datetime.now() - relativedelta(years=i)).date()\n",
    "    for i in static_data[\"Age\"]\n",
    "]"
   ]
  },
  {
   "cell_type": "code",
   "execution_count": 140,
   "metadata": {},
   "outputs": [
    {
     "data": {
      "text/html": [
       "<div>\n",
       "<style scoped>\n",
       "    .dataframe tbody tr th:only-of-type {\n",
       "        vertical-align: middle;\n",
       "    }\n",
       "\n",
       "    .dataframe tbody tr th {\n",
       "        vertical-align: top;\n",
       "    }\n",
       "\n",
       "    .dataframe thead th {\n",
       "        text-align: right;\n",
       "    }\n",
       "</style>\n",
       "<table border=\"1\" class=\"dataframe\">\n",
       "  <thead>\n",
       "    <tr style=\"text-align: right;\">\n",
       "      <th></th>\n",
       "      <th>Gender</th>\n",
       "      <th>Age</th>\n",
       "      <th>Cust_Birthday</th>\n",
       "    </tr>\n",
       "    <tr>\n",
       "      <th>CustomerID</th>\n",
       "      <th></th>\n",
       "      <th></th>\n",
       "      <th></th>\n",
       "    </tr>\n",
       "  </thead>\n",
       "  <tbody>\n",
       "    <tr>\n",
       "      <th>1</th>\n",
       "      <td>Male</td>\n",
       "      <td>37</td>\n",
       "      <td>1987-07-22</td>\n",
       "    </tr>\n",
       "    <tr>\n",
       "      <th>2</th>\n",
       "      <td>Female</td>\n",
       "      <td>46</td>\n",
       "      <td>1978-07-22</td>\n",
       "    </tr>\n",
       "    <tr>\n",
       "      <th>3</th>\n",
       "      <td>Female</td>\n",
       "      <td>43</td>\n",
       "      <td>1981-07-22</td>\n",
       "    </tr>\n",
       "    <tr>\n",
       "      <th>4</th>\n",
       "      <td>Female</td>\n",
       "      <td>59</td>\n",
       "      <td>1965-07-22</td>\n",
       "    </tr>\n",
       "    <tr>\n",
       "      <th>5</th>\n",
       "      <td>Male</td>\n",
       "      <td>56</td>\n",
       "      <td>1968-07-22</td>\n",
       "    </tr>\n",
       "  </tbody>\n",
       "</table>\n",
       "</div>"
      ],
      "text/plain": [
       "            Gender  Age Cust_Birthday\n",
       "CustomerID                           \n",
       "1             Male   37    1987-07-22\n",
       "2           Female   46    1978-07-22\n",
       "3           Female   43    1981-07-22\n",
       "4           Female   59    1965-07-22\n",
       "5             Male   56    1968-07-22"
      ]
     },
     "execution_count": 140,
     "metadata": {},
     "output_type": "execute_result"
    }
   ],
   "source": [
    "static_data.head(5)"
   ]
  },
  {
   "cell_type": "code",
   "execution_count": 141,
   "metadata": {},
   "outputs": [],
   "source": [
    "variable_data = combined_data[\n",
    "    [\n",
    "        \"CustomerID\",\n",
    "        \"Income\",\n",
    "        \"Marital_Status\",\n",
    "        \"Dependents\",\n",
    "        \"Claims\",\n",
    "        \"Policy\",\n",
    "        \"Premium_Amount\",\n",
    "        \"Insured_Amount\",\n",
    "        \"Payment_Timeliness\",\n",
    "        \"Payment_Frequency\",\n",
    "        \"Payment_Method\",\n",
    "        \"Recent_Payment_Months\",\n",
    "        \"Recent_Purchase_Months\",\n",
    "        \"Policy_Purchase_Years\",\n",
    "        \"Smoker\",\n",
    "        \"Policy_Issue_Date\",\n",
    "        \"Policy_Terminate_Date\",\n",
    "        \"under_insured\",\n",
    "        \"high_income\",\n",
    "        \"dependents_needs\",\n",
    "        \"recent_purchase\",\n",
    "    ]\n",
    "]"
   ]
  },
  {
   "cell_type": "code",
   "execution_count": 146,
   "metadata": {},
   "outputs": [
    {
     "data": {
      "text/html": [
       "<div>\n",
       "<style scoped>\n",
       "    .dataframe tbody tr th:only-of-type {\n",
       "        vertical-align: middle;\n",
       "    }\n",
       "\n",
       "    .dataframe tbody tr th {\n",
       "        vertical-align: top;\n",
       "    }\n",
       "\n",
       "    .dataframe thead th {\n",
       "        text-align: right;\n",
       "    }\n",
       "</style>\n",
       "<table border=\"1\" class=\"dataframe\">\n",
       "  <thead>\n",
       "    <tr style=\"text-align: right;\">\n",
       "      <th></th>\n",
       "      <th>CustomerID</th>\n",
       "      <th>Income</th>\n",
       "      <th>Marital_Status</th>\n",
       "      <th>Dependents</th>\n",
       "      <th>Claims</th>\n",
       "      <th>Policy</th>\n",
       "      <th>Premium_Amount</th>\n",
       "      <th>Insured_Amount</th>\n",
       "      <th>Payment_Timeliness</th>\n",
       "      <th>Payment_Frequency</th>\n",
       "      <th>...</th>\n",
       "      <th>Recent_Payment_Months</th>\n",
       "      <th>Recent_Purchase_Months</th>\n",
       "      <th>Policy_Purchase_Years</th>\n",
       "      <th>Smoker</th>\n",
       "      <th>Policy_Issue_Date</th>\n",
       "      <th>Policy_Terminate_Date</th>\n",
       "      <th>under_insured</th>\n",
       "      <th>high_income</th>\n",
       "      <th>dependents_needs</th>\n",
       "      <th>recent_purchase</th>\n",
       "    </tr>\n",
       "  </thead>\n",
       "  <tbody>\n",
       "    <tr>\n",
       "      <th>0</th>\n",
       "      <td>1</td>\n",
       "      <td>11000</td>\n",
       "      <td>Divorced</td>\n",
       "      <td>0</td>\n",
       "      <td>None</td>\n",
       "      <td>Medical</td>\n",
       "      <td>2861</td>\n",
       "      <td>0</td>\n",
       "      <td>On-time</td>\n",
       "      <td>Monthly</td>\n",
       "      <td>...</td>\n",
       "      <td>9</td>\n",
       "      <td>28</td>\n",
       "      <td>1</td>\n",
       "      <td>False</td>\n",
       "      <td>1991-01-01</td>\n",
       "      <td>None</td>\n",
       "      <td>False</td>\n",
       "      <td>False</td>\n",
       "      <td>False</td>\n",
       "      <td>False</td>\n",
       "    </tr>\n",
       "    <tr>\n",
       "      <th>1</th>\n",
       "      <td>2</td>\n",
       "      <td>70000</td>\n",
       "      <td>Married</td>\n",
       "      <td>2</td>\n",
       "      <td>None</td>\n",
       "      <td>Medical</td>\n",
       "      <td>3148</td>\n",
       "      <td>0</td>\n",
       "      <td>On-time</td>\n",
       "      <td>Monthly</td>\n",
       "      <td>...</td>\n",
       "      <td>0</td>\n",
       "      <td>12</td>\n",
       "      <td>3</td>\n",
       "      <td>True</td>\n",
       "      <td>1996-05-01</td>\n",
       "      <td>None</td>\n",
       "      <td>True</td>\n",
       "      <td>False</td>\n",
       "      <td>False</td>\n",
       "      <td>False</td>\n",
       "    </tr>\n",
       "    <tr>\n",
       "      <th>2</th>\n",
       "      <td>3</td>\n",
       "      <td>44340</td>\n",
       "      <td>Married</td>\n",
       "      <td>2</td>\n",
       "      <td>Minor</td>\n",
       "      <td>Endowment</td>\n",
       "      <td>1455</td>\n",
       "      <td>14550</td>\n",
       "      <td>Late Payment</td>\n",
       "      <td>Annually</td>\n",
       "      <td>...</td>\n",
       "      <td>19</td>\n",
       "      <td>21</td>\n",
       "      <td>1</td>\n",
       "      <td>False</td>\n",
       "      <td>1995-03-03</td>\n",
       "      <td>2010-03-03</td>\n",
       "      <td>False</td>\n",
       "      <td>False</td>\n",
       "      <td>False</td>\n",
       "      <td>False</td>\n",
       "    </tr>\n",
       "    <tr>\n",
       "      <th>3</th>\n",
       "      <td>4</td>\n",
       "      <td>11000</td>\n",
       "      <td>Single</td>\n",
       "      <td>0</td>\n",
       "      <td>None</td>\n",
       "      <td>Endowment</td>\n",
       "      <td>1324</td>\n",
       "      <td>13240</td>\n",
       "      <td>On-time</td>\n",
       "      <td>Annually</td>\n",
       "      <td>...</td>\n",
       "      <td>13</td>\n",
       "      <td>11</td>\n",
       "      <td>15</td>\n",
       "      <td>False</td>\n",
       "      <td>1991-03-29</td>\n",
       "      <td>2005-03-29</td>\n",
       "      <td>False</td>\n",
       "      <td>False</td>\n",
       "      <td>False</td>\n",
       "      <td>False</td>\n",
       "    </tr>\n",
       "    <tr>\n",
       "      <th>4</th>\n",
       "      <td>5</td>\n",
       "      <td>11000</td>\n",
       "      <td>Married</td>\n",
       "      <td>2</td>\n",
       "      <td>None</td>\n",
       "      <td>Critical Illness</td>\n",
       "      <td>2857</td>\n",
       "      <td>100000</td>\n",
       "      <td>Late Payment</td>\n",
       "      <td>Annually</td>\n",
       "      <td>...</td>\n",
       "      <td>12</td>\n",
       "      <td>0</td>\n",
       "      <td>2</td>\n",
       "      <td>False</td>\n",
       "      <td>2014-04-01</td>\n",
       "      <td>2015-04-01</td>\n",
       "      <td>False</td>\n",
       "      <td>False</td>\n",
       "      <td>False</td>\n",
       "      <td>True</td>\n",
       "    </tr>\n",
       "  </tbody>\n",
       "</table>\n",
       "<p>5 rows × 21 columns</p>\n",
       "</div>"
      ],
      "text/plain": [
       "   CustomerID  Income Marital_Status  Dependents Claims            Policy  \\\n",
       "0           1   11000       Divorced           0   None           Medical   \n",
       "1           2   70000        Married           2   None           Medical   \n",
       "2           3   44340        Married           2  Minor         Endowment   \n",
       "3           4   11000         Single           0   None         Endowment   \n",
       "4           5   11000        Married           2   None  Critical Illness   \n",
       "\n",
       "   Premium_Amount  Insured_Amount Payment_Timeliness Payment_Frequency  ...  \\\n",
       "0            2861               0            On-time           Monthly  ...   \n",
       "1            3148               0            On-time           Monthly  ...   \n",
       "2            1455           14550       Late Payment          Annually  ...   \n",
       "3            1324           13240            On-time          Annually  ...   \n",
       "4            2857          100000       Late Payment          Annually  ...   \n",
       "\n",
       "  Recent_Payment_Months  Recent_Purchase_Months  Policy_Purchase_Years  \\\n",
       "0                     9                      28                      1   \n",
       "1                     0                      12                      3   \n",
       "2                    19                      21                      1   \n",
       "3                    13                      11                     15   \n",
       "4                    12                       0                      2   \n",
       "\n",
       "   Smoker  Policy_Issue_Date Policy_Terminate_Date under_insured  high_income  \\\n",
       "0   False         1991-01-01                  None         False        False   \n",
       "1    True         1996-05-01                  None          True        False   \n",
       "2   False         1995-03-03            2010-03-03         False        False   \n",
       "3   False         1991-03-29            2005-03-29         False        False   \n",
       "4   False         2014-04-01            2015-04-01         False        False   \n",
       "\n",
       "   dependents_needs  recent_purchase  \n",
       "0             False            False  \n",
       "1             False            False  \n",
       "2             False            False  \n",
       "3             False            False  \n",
       "4             False             True  \n",
       "\n",
       "[5 rows x 21 columns]"
      ]
     },
     "execution_count": 146,
     "metadata": {},
     "output_type": "execute_result"
    }
   ],
   "source": [
    "variable_data.head(5)"
   ]
  },
  {
   "cell_type": "code",
   "execution_count": 143,
   "metadata": {},
   "outputs": [],
   "source": [
    "merged_data = static_data.merge(variable_data, on=\"CustomerID\")"
   ]
  },
  {
   "cell_type": "code",
   "execution_count": 144,
   "metadata": {},
   "outputs": [],
   "source": [
    "# Casting\n",
    "merged_data[\"Policy_Terminate_Date\"] = pd.to_datetime(\n",
    "    merged_data[\"Policy_Terminate_Date\"]\n",
    ")\n",
    "merged_data[\"Policy_Issue_Date\"] = pd.to_datetime(merged_data[\"Policy_Issue_Date\"])\n",
    "\n",
    "merged_data[\"Policy_Issue_Date\"] = [i.date() for i in merged_data[\"Policy_Issue_Date\"]]\n",
    "merged_data[\"Policy_Terminate_Date\"] = [\n",
    "    i.date() for i in merged_data[\"Policy_Terminate_Date\"]\n",
    "]"
   ]
  },
  {
   "cell_type": "markdown",
   "metadata": {},
   "source": [
    "# Output"
   ]
  },
  {
   "cell_type": "code",
   "execution_count": 145,
   "metadata": {},
   "outputs": [],
   "source": [
    "merged_data.to_parquet(\"data/L1/generated_data.parquet\", index=False)"
   ]
  }
 ],
 "metadata": {
  "kernelspec": {
   "display_name": "py312syndata",
   "language": "python",
   "name": "python3"
  },
  "language_info": {
   "codemirror_mode": {
    "name": "ipython",
    "version": 3
   },
   "file_extension": ".py",
   "mimetype": "text/x-python",
   "name": "python",
   "nbconvert_exporter": "python",
   "pygments_lexer": "ipython3",
   "version": "3.12.4"
  }
 },
 "nbformat": 4,
 "nbformat_minor": 2
}
